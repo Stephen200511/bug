{
 "cells": [
  {
   "cell_type": "code",
   "execution_count": 2,
   "metadata": {},
   "outputs": [
    {
     "name": "stdout",
     "output_type": "stream",
     "text": [
      "   id  city  hour  is_workday  weather  temp_air  temp_body  wind   y\n",
      "0   1     0    22           1        2       3.0        0.7     0  15\n",
      "1   2     0    10           1        1      21.0       24.9     3  48\n",
      "2   3     0     0           1        1      25.3       27.4     0  21\n",
      "3   4     0     7           0        1      15.7       16.2     0  11\n",
      "4   5     1    10           1        1      21.1       25.0     2  39\n",
      "<class 'pandas.core.frame.DataFrame'>\n",
      "RangeIndex: 10000 entries, 0 to 9999\n",
      "Data columns (total 9 columns):\n",
      " #   Column      Non-Null Count  Dtype  \n",
      "---  ------      --------------  -----  \n",
      " 0   id          10000 non-null  int64  \n",
      " 1   city        10000 non-null  int64  \n",
      " 2   hour        10000 non-null  int64  \n",
      " 3   is_workday  10000 non-null  int64  \n",
      " 4   weather     10000 non-null  int64  \n",
      " 5   temp_air    10000 non-null  float64\n",
      " 6   temp_body   10000 non-null  float64\n",
      " 7   wind        10000 non-null  int64  \n",
      " 8   y           10000 non-null  int64  \n",
      "dtypes: float64(2), int64(7)\n",
      "memory usage: 703.3 KB\n",
      "None\n"
     ]
    }
   ],
   "source": [
    "import pandas as pd\n",
    "data = pd.read_csv('bike.csv')\n",
    "print(data.head())\n",
    "print(data.info())"
   ]
  },
  {
   "cell_type": "code",
   "execution_count": 4,
   "metadata": {},
   "outputs": [
    {
     "name": "stdout",
     "output_type": "stream",
     "text": [
      "   city  hour  is_workday  weather  temp_air  temp_body  wind   y\n",
      "0     0    22           1        2       3.0        0.7     0  15\n",
      "1     0    10           1        1      21.0       24.9     3  48\n",
      "2     0     0           1        1      25.3       27.4     0  21\n",
      "3     0     7           0        1      15.7       16.2     0  11\n",
      "4     1    10           1        1      21.1       25.0     2  39\n",
      "<class 'pandas.core.frame.DataFrame'>\n",
      "RangeIndex: 10000 entries, 0 to 9999\n",
      "Data columns (total 8 columns):\n",
      " #   Column      Non-Null Count  Dtype  \n",
      "---  ------      --------------  -----  \n",
      " 0   city        10000 non-null  int64  \n",
      " 1   hour        10000 non-null  int64  \n",
      " 2   is_workday  10000 non-null  int64  \n",
      " 3   weather     10000 non-null  int64  \n",
      " 4   temp_air    10000 non-null  float64\n",
      " 5   temp_body   10000 non-null  float64\n",
      " 6   wind        10000 non-null  int64  \n",
      " 7   y           10000 non-null  int64  \n",
      "dtypes: float64(2), int64(6)\n",
      "memory usage: 625.1 KB\n",
      "None\n"
     ]
    }
   ],
   "source": [
    "import pandas as pd\n",
    "data = pd.read_csv('bike.csv')\n",
    "data = data.drop('id', axis=1)\n",
    "print(data.head())\n",
    "print(data.info())"
   ]
  },
  {
   "cell_type": "code",
   "execution_count": 5,
   "metadata": {},
   "outputs": [
    {
     "name": "stdout",
     "output_type": "stream",
     "text": [
      "    hour  is_workday  weather  temp_air  temp_body  wind   y\n",
      "4     10           1        1      21.1       25.0     2  39\n",
      "5      0           1        1      20.4       18.2     0  12\n",
      "9      4           1        3      17.4       18.0     3   2\n",
      "10     0           1        1      14.9       15.3     2   6\n",
      "11     8           0        1      25.0       28.1     0  25\n",
      "<class 'pandas.core.frame.DataFrame'>\n",
      "Index: 4998 entries, 4 to 9997\n",
      "Data columns (total 7 columns):\n",
      " #   Column      Non-Null Count  Dtype  \n",
      "---  ------      --------------  -----  \n",
      " 0   hour        4998 non-null   int64  \n",
      " 1   is_workday  4998 non-null   int64  \n",
      " 2   weather     4998 non-null   int64  \n",
      " 3   temp_air    4998 non-null   float64\n",
      " 4   temp_body   4998 non-null   float64\n",
      " 5   wind        4998 non-null   int64  \n",
      " 6   y           4998 non-null   int64  \n",
      "dtypes: float64(2), int64(5)\n",
      "memory usage: 312.4 KB\n",
      "None\n"
     ]
    }
   ],
   "source": [
    "import pandas as pd\n",
    "data = pd.read_csv('bike.csv')\n",
    "data = data.drop('id', axis=1)\n",
    "shanghai_data = data[data['city'] == 1]\n",
    "shanghai_data = shanghai_data.drop('city', axis=1)\n",
    "print(shanghai_data.head())\n",
    "print(shanghai_data.info())"
   ]
  },
  {
   "cell_type": "code",
   "execution_count": 6,
   "metadata": {},
   "outputs": [
    {
     "name": "stdout",
     "output_type": "stream",
     "text": [
      "    hour  is_workday  weather  temp_air  temp_body  wind   y\n",
      "4      1           1        1      21.1       25.0     2  39\n",
      "5      0           1        1      20.4       18.2     0  12\n",
      "9      0           1        3      17.4       18.0     3   2\n",
      "10     0           1        1      14.9       15.3     2   6\n",
      "11     1           0        1      25.0       28.1     0  25\n",
      "<class 'pandas.core.frame.DataFrame'>\n",
      "Index: 4998 entries, 4 to 9997\n",
      "Data columns (total 7 columns):\n",
      " #   Column      Non-Null Count  Dtype  \n",
      "---  ------      --------------  -----  \n",
      " 0   hour        4998 non-null   int64  \n",
      " 1   is_workday  4998 non-null   int64  \n",
      " 2   weather     4998 non-null   int64  \n",
      " 3   temp_air    4998 non-null   float64\n",
      " 4   temp_body   4998 non-null   float64\n",
      " 5   wind        4998 non-null   int64  \n",
      " 6   y           4998 non-null   int64  \n",
      "dtypes: float64(2), int64(5)\n",
      "memory usage: 312.4 KB\n",
      "None\n"
     ]
    }
   ],
   "source": [
    "import pandas as pd\n",
    "data = pd.read_csv('bike.csv')\n",
    "data = data.drop('id', axis=1)\n",
    "shanghai_data = data[data['city'] == 1]\n",
    "shanghai_data = shanghai_data.drop('city', axis=1)\n",
    "shanghai_data['hour'] = shanghai_data['hour'].apply(lambda x: 1 if 6 <= x <= 18 else 0)\n",
    "print(shanghai_data.head())\n",
    "print(shanghai_data.info())"
   ]
  },
  {
   "cell_type": "code",
   "execution_count": 8,
   "metadata": {},
   "outputs": [
    {
     "name": "stdout",
     "output_type": "stream",
     "text": [
      "    hour  is_workday  weather  temp_air  temp_body  wind\n",
      "4      1           1        1      21.1       25.0     2\n",
      "5      0           1        1      20.4       18.2     0\n",
      "9      0           1        3      17.4       18.0     3\n",
      "10     0           1        1      14.9       15.3     2\n",
      "11     1           0        1      25.0       28.1     0\n",
      "(4998, 1)\n",
      "<class 'pandas.core.frame.DataFrame'>\n",
      "Index: 4998 entries, 4 to 9997\n",
      "Data columns (total 6 columns):\n",
      " #   Column      Non-Null Count  Dtype  \n",
      "---  ------      --------------  -----  \n",
      " 0   hour        4998 non-null   int64  \n",
      " 1   is_workday  4998 non-null   int64  \n",
      " 2   weather     4998 non-null   int64  \n",
      " 3   temp_air    4998 non-null   float64\n",
      " 4   temp_body   4998 non-null   float64\n",
      " 5   wind        4998 non-null   int64  \n",
      "dtypes: float64(2), int64(4)\n",
      "memory usage: 273.3 KB\n",
      "None\n"
     ]
    }
   ],
   "source": [
    "import pandas as pd\n",
    "import numpy as np\n",
    "data = pd.read_csv('bike.csv')\n",
    "data = data.drop('id', axis=1)\n",
    "shanghai_data = data[data['city'] == 1]\n",
    "shanghai_data = shanghai_data.drop('city', axis=1)\n",
    "shanghai_data['hour'] = shanghai_data['hour'].apply(lambda x: 1 if 6 <= x <= 18 else 0)\n",
    "y = shanghai_data['y'].to_numpy().reshape(-1, 1)\n",
    "shanghai_data = shanghai_data.drop('y', axis=1)\n",
    "print(shanghai_data.head())\n",
    "print(y.shape)\n",
    "print(shanghai_data.info())"
   ]
  },
  {
   "cell_type": "code",
   "execution_count": 10,
   "metadata": {},
   "outputs": [
    {
     "name": "stdout",
     "output_type": "stream",
     "text": [
      "(4998, 6)\n"
     ]
    }
   ],
   "source": [
    "import pandas as pd\n",
    "import numpy as np\n",
    "data = pd.read_csv('bike.csv')\n",
    "data = data.drop('id', axis=1)\n",
    "shanghai_data = data[data['city'] == 1]\n",
    "shanghai_data = shanghai_data.drop('city', axis=1)\n",
    "shanghai_data['hour'] = shanghai_data['hour'].apply(lambda x: 1 if 6 <= x <= 18 else 0)\n",
    "y = shanghai_data['y'].to_numpy().reshape(-1, 1)\n",
    "shanghai_data = shanghai_data.drop('y', axis=1)\n",
    "X = shanghai_data.to_numpy()\n",
    "print(X.shape)"
   ]
  },
  {
   "cell_type": "code",
   "execution_count": 12,
   "metadata": {},
   "outputs": [
    {
     "name": "stdout",
     "output_type": "stream",
     "text": [
      "训练集特征数据形状: (3998, 6)\n",
      "训练集标签数据形状: (3998, 1)\n",
      "测试集特征数据形状: (1000, 6)\n",
      "测试集标签数据形状: (1000, 1)\n"
     ]
    }
   ],
   "source": [
    "import pandas as pd\n",
    "import numpy as np\n",
    "from sklearn.model_selection import train_test_split\n",
    "data = pd.read_csv('bike.csv')\n",
    "data = data.drop('id', axis=1)\n",
    "shanghai_data = data[data['city'] == 1]\n",
    "shanghai_data = shanghai_data.drop('city', axis=1)\n",
    "shanghai_data['hour'] = shanghai_data['hour'].apply(lambda x: 1 if 6 <= x <= 18 else 0)\n",
    "y = shanghai_data['y'].to_numpy().reshape(-1, 1)\n",
    "shanghai_data = shanghai_data.drop('y', axis=1)\n",
    "X = shanghai_data.to_numpy()\n",
    "X_train, X_test, y_train, y_test = train_test_split(X, y, test_size=0.2, random_state=42)\n",
    "print(\"训练集特征数据形状:\", X_train.shape)\n",
    "print(\"训练集标签数据形状:\", y_train.shape)\n",
    "print(\"测试集特征数据形状:\", X_test.shape)\n",
    "print(\"测试集标签数据形状:\", y_test.shape)"
   ]
  },
  {
   "cell_type": "code",
   "execution_count": 16,
   "metadata": {},
   "outputs": [
    {
     "name": "stdout",
     "output_type": "stream",
     "text": [
      "归一化后的训练集数据形状: (3998, 6)\n",
      "归一化后的训练集标签形状: (3998, 1)\n",
      "归一化后的测试集数据形状: (1000, 6)\n",
      "归一化后的测试集标签形状: (1000, 1)\n"
     ]
    }
   ],
   "source": [
    "from sklearn.preprocessing import MinMaxScaler\n",
    "import pandas as pd\n",
    "import numpy as np\n",
    "from sklearn.model_selection import train_test_split\n",
    "data = pd.read_csv('bike.csv')\n",
    "data = data.drop('id', axis=1)\n",
    "shanghai_data = data[data['city'] == 1]\n",
    "shanghai_data = shanghai_data.drop('city', axis=1)\n",
    "shanghai_data['hour'] = shanghai_data['hour'].apply(lambda x: 1 if 6 <= x <= 18 else 0)\n",
    "y = shanghai_data['y'].to_numpy().reshape(-1, 1)\n",
    "shanghai_data = shanghai_data.drop('y', axis=1)\n",
    "X = shanghai_data.to_numpy()\n",
    "X_train, X_test, y_train, y_test = train_test_split(X, y, test_size = 0.2, random_state = 42)\n",
    "scaler_X = MinMaxScaler()\n",
    "scaler_y = MinMaxScaler()\n",
    "X_train_normalized = scaler_X.fit_transform(X_train)\n",
    "X_test_normalized = scaler_X.transform(X_test)\n",
    "y_train_normalized = scaler_y.fit_transform(y_train)\n",
    "y_test_normalized = scaler_y.transform(y_test)\n",
    "print(\"归一化后的训练集数据形状:\", X_train_normalized.shape)\n",
    "print(\"归一化后的训练集标签形状:\", y_train_normalized.shape)\n",
    "print(\"归一化后的测试集数据形状:\", X_test_normalized.shape)\n",
    "print(\"归一化后的测试集标签形状:\", y_test_normalized.shape)"
   ]
  },
  {
   "cell_type": "code",
   "execution_count": 18,
   "metadata": {},
   "outputs": [
    {
     "name": "stdout",
     "output_type": "stream",
     "text": [
      "线性回归模型的系数: [[ 0.17354377 -0.00290294 -0.08055339  0.14068164  0.28812572  0.02659038]]\n",
      "线性回归模型的截距: [-0.06705145]\n"
     ]
    }
   ],
   "source": [
    "from sklearn.linear_model import LinearRegression\n",
    "from sklearn.preprocessing import MinMaxScaler\n",
    "import pandas as pd\n",
    "import numpy as np\n",
    "from sklearn.model_selection import train_test_split\n",
    "data = pd.read_csv('bike.csv')\n",
    "data = data.drop('id', axis=1)\n",
    "shanghai_data = data[data['city'] == 1]\n",
    "shanghai_data = shanghai_data.drop('city', axis=1)\n",
    "shanghai_data['hour'] = shanghai_data['hour'].apply(lambda x: 1 if 6 <= x <= 18 else 0)\n",
    "y = shanghai_data['y'].to_numpy().reshape(-1, 1)\n",
    "shanghai_data = shanghai_data.drop('y', axis=1)\n",
    "X = shanghai_data.to_numpy()\n",
    "X_train, X_test, y_train, y_test = train_test_split(X, y, test_size=0.2, random_state=42)\n",
    "scaler_X = MinMaxScaler()\n",
    "scaler_y = MinMaxScaler()\n",
    "X_train_normalized = scaler_X.fit_transform(X_train)\n",
    "X_test_normalized = scaler_X.transform(X_test)\n",
    "y_train_normalized = scaler_y.fit_transform(y_train)\n",
    "y_test_normalized = scaler_y.transform(y_test)\n",
    "linear_regression_model = LinearRegression()\n",
    "linear_regression_model.fit(X_train_normalized, y_train_normalized)\n",
    "print(\"线性回归模型的系数:\", linear_regression_model.coef_)\n",
    "print(\"线性回归模型的截距:\", linear_regression_model.intercept_)"
   ]
  },
  {
   "cell_type": "code",
   "execution_count": 21,
   "metadata": {},
   "outputs": [
    {
     "name": "stdout",
     "output_type": "stream",
     "text": [
      "均方误差（MSE）: 996.5688433356046\n",
      "决定系数（R²）: 0.3718395317360643\n"
     ]
    }
   ],
   "source": [
    "from sklearn.linear_model import LinearRegression\n",
    "from sklearn.preprocessing import MinMaxScaler\n",
    "import pandas as pd\n",
    "import numpy as np\n",
    "from sklearn.model_selection import train_test_split\n",
    "from sklearn.metrics import mean_squared_error, r2_score\n",
    "data = pd.read_csv('bike.csv')\n",
    "data = data.drop('id', axis=1)\n",
    "shanghai_data = data[data['city'] == 1]\n",
    "shanghai_data = shanghai_data.drop('city', axis=1)\n",
    "shanghai_data['hour'] = shanghai_data['hour'].apply(lambda x: 1 if 6 <= x <= 18 else 0)\n",
    "y = shanghai_data['y'].to_numpy().reshape(-1, 1)\n",
    "shanghai_data = shanghai_data.drop('y', axis=1)\n",
    "X = shanghai_data.to_numpy()\n",
    "X_train, X_test, y_train, y_test = train_test_split(X, y, test_size=0.2, random_state=42)\n",
    "scaler_X = MinMaxScaler()\n",
    "scaler_y = MinMaxScaler()\n",
    "X_train_normalized = scaler_X.fit_transform(X_train)\n",
    "X_test_normalized = scaler_X.transform(X_test)\n",
    "y_train_normalized = scaler_y.fit_transform(y_train)\n",
    "y_test_normalized = scaler_y.transform(y_test)\n",
    "linear_regression_model = LinearRegression()\n",
    "linear_regression_model.fit(X_train_normalized, y_train_normalized)\n",
    "y_pred = linear_regression_model.predict(X_test_normalized)\n",
    "y_pred_original_scale = scaler_y.inverse_transform(y_pred.reshape(-1, 1))\n",
    "y_test_original_scale = scaler_y.inverse_transform(y_test_normalized)\n",
    "mse = mean_squared_error(y_test_original_scale, y_pred_original_scale)\n",
    "r2 = r2_score(y_test_original_scale, y_pred_original_scale)\n",
    "print(\"均方误差（MSE）:\", mse)\n",
    "print(\"决定系数（R²）:\", r2)"
   ]
  },
  {
   "cell_type": "code",
   "execution_count": 23,
   "metadata": {},
   "outputs": [
    {
     "name": "stdout",
     "output_type": "stream",
     "text": [
      "均方根误差（RMSE）: 31.568478635113294\n"
     ]
    }
   ],
   "source": [
    "from sklearn.linear_model import LinearRegression\n",
    "from sklearn.preprocessing import MinMaxScaler\n",
    "import pandas as pd\n",
    "import numpy as np\n",
    "from sklearn.model_selection import train_test_split\n",
    "from sklearn.metrics import mean_squared_error\n",
    "\n",
    "data = pd.read_csv('bike.csv')\n",
    "data = data.drop('id', axis=1)\n",
    "shanghai_data = data[data['city'] == 1]\n",
    "shanghai_data = shanghai_data.drop('city', axis=1)\n",
    "shanghai_data['hour'] = shanghai_data['hour'].apply(lambda x: 1 if 6 <= x <= 18 else 0)\n",
    "y = shanghai_data['y'].to_numpy().reshape(-1, 1)\n",
    "shanghai_data = shanghai_data.drop('y', axis=1)\n",
    "X = shanghai_data.to_numpy()\n",
    "X_train, X_test, y_train, y_test = train_test_split(X, y, test_size = 0.2, random_state = 42)\n",
    "scaler_X = MinMaxScaler()\n",
    "scaler_y = MinMaxScaler()\n",
    "X_train_normalized = scaler_X.fit_transform(X_train)\n",
    "X_test_normalized = scaler_X.transform(X_test)\n",
    "y_train_normalized = scaler_y.fit_transform(y_train)\n",
    "y_test_normalized = scaler_y.transform(y_test)\n",
    "linear_regression_model = LinearRegression()\n",
    "linear_regression_model.fit(X_train_normalized, y_train_normalized)\n",
    "y_pred = linear_regression_model.predict(X_test_normalized)\n",
    "y_pred_original_scale = scaler_y.inverse_transform(y_pred.reshape(-1, 1))\n",
    "y_test_original_scale = scaler_y.inverse_transform(y_test_normalized)\n",
    "mse = mean_squared_error(y_test_original_scale, y_pred_original_scale)\n",
    "rmse = np.sqrt(mse)\n",
    "print(\"均方根误差（RMSE）:\", rmse)"
   ]
  }
 ],
 "metadata": {
  "kernelspec": {
   "display_name": "Python 3",
   "language": "python",
   "name": "python3"
  },
  "language_info": {
   "codemirror_mode": {
    "name": "ipython",
    "version": 3
   },
   "file_extension": ".py",
   "mimetype": "text/x-python",
   "name": "python",
   "nbconvert_exporter": "python",
   "pygments_lexer": "ipython3",
   "version": "3.12.6"
  }
 },
 "nbformat": 4,
 "nbformat_minor": 2
}
