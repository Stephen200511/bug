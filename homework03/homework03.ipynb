{
 "cells": [
  {
   "cell_type": "code",
   "execution_count": 1,
   "metadata": {},
   "outputs": [
    {
     "name": "stdout",
     "output_type": "stream",
     "text": [
      "5 是质数\n"
     ]
    }
   ],
   "source": [
    "num = int(input(\"请输入一个整数: \"))\n",
    "if num < 2:\n",
    "    print(f\"{num} 不是质数\")\n",
    "else:\n",
    "    is_prime = True\n",
    "    for i in range(2, int(num ** 0.5) + 1):\n",
    "        if num % i == 0:\n",
    "            is_prime = False\n",
    "            break\n",
    "    if is_prime:\n",
    "        print(f\"{num} 是质数\")\n",
    "    else:\n",
    "        print(f\"{num} 不是质数\")"
   ]
  },
  {
   "cell_type": "code",
   "execution_count": 2,
   "metadata": {},
   "outputs": [
    {
     "name": "stdout",
     "output_type": "stream",
     "text": [
      "插入排序后的数组为： [3, 4, 5, 6, 7, 8, 9]\n"
     ]
    }
   ],
   "source": [
    "def insertion_sort():\n",
    "    # 获取用户输入的待排序数组，以空格为分隔符输入元素\n",
    "    input_str = input(\"请输入待排序的数组，元素之间用空格隔开：\")\n",
    "    arr = list(map(int, input_str.split()))\n",
    "    for i in range(1, len(arr)):\n",
    "        key = arr[i]\n",
    "        j = i - 1\n",
    "        while j >= 0 and arr[j] > key:\n",
    "            arr[j + 1] = arr[j]\n",
    "            j -= 1\n",
    "        arr[j + 1] = key\n",
    "    return arr\n",
    "\n",
    "# 调用插入排序函数并输出结果\n",
    "result = insertion_sort()\n",
    "print(\"插入排序后的数组为：\", result)"
   ]
  },
  {
   "cell_type": "code",
   "execution_count": 3,
   "metadata": {},
   "outputs": [
    {
     "name": "stdout",
     "output_type": "stream",
     "text": [
      "选择排序后的数组为： [3, 4, 5, 6, 7, 8, 9]\n"
     ]
    }
   ],
   "source": [
    "def selection_sort():\n",
    "    # 获取用户输入的待排序数组，以空格为分隔符输入元素\n",
    "    input_str = input(\"请输入待排序的数组，元素之间用空格隔开：\")\n",
    "    arr = list(map(int, input_str.split()))\n",
    "    for i in range(len(arr)):\n",
    "        min_index = i\n",
    "        for j in range(i + 1, len(arr)):\n",
    "            if arr[j] < arr[min_index]:\n",
    "                min_index = j\n",
    "        arr[i], arr[min_index] = arr[min_index], arr[i]\n",
    "    return arr\n",
    "\n",
    "# 调用选择排序函数并输出结果\n",
    "result = selection_sort()\n",
    "print(\"选择排序后的数组为：\", result)"
   ]
  },
  {
   "cell_type": "code",
   "execution_count": 4,
   "metadata": {},
   "outputs": [
    {
     "name": "stdout",
     "output_type": "stream",
     "text": [
      "快速排序后的数组为： [3, 4, 5, 6, 7, 8, 9]\n"
     ]
    }
   ],
   "source": [
    "def quick_sort(arr):\n",
    "    if len(arr) <= 1:\n",
    "        return arr\n",
    "    pivot = arr[0]\n",
    "    less = []\n",
    "    greater = []\n",
    "    for element in arr[1:]:\n",
    "        if element <= pivot:\n",
    "            less.append(element)\n",
    "        else:\n",
    "            greater.append(element)\n",
    "    return quick_sort(less) + [pivot] + quick_sort(greater)\n",
    "\n",
    "# 获取用户输入的待排序数组，以空格为分隔符输入元素\n",
    "input_str = input(\"请输入待排序的数组，元素之间用空格隔开：\")\n",
    "arr = list(map(int, input_str.split()))\n",
    "# 调用快速排序函数并输出结果\n",
    "result = quick_sort(arr)\n",
    "print(\"快速排序后的数组为：\", result)"
   ]
  },
  {
   "cell_type": "code",
   "execution_count": 5,
   "metadata": {},
   "outputs": [
    {
     "name": "stdout",
     "output_type": "stream",
     "text": [
      "数列长度为 100:\n",
      "  选择排序运行时间: 0.000000 秒\n",
      "  插入排序运行时间: 0.000000 秒\n",
      "  归并排序运行时间: 0.000000 秒\n",
      "  Python内置排序运行时间: 0.000000 秒\n",
      "------------------------------\n",
      "数列长度为 1000:\n",
      "  选择排序运行时间: 0.021055 秒\n",
      "  插入排序运行时间: 0.011594 秒\n",
      "  归并排序运行时间: 0.003051 秒\n",
      "  Python内置排序运行时间: 0.000000 秒\n",
      "------------------------------\n",
      "数列长度为 10000:\n",
      "  选择排序运行时间: 1.406380 秒\n",
      "  插入排序运行时间: 1.408941 秒\n",
      "  归并排序运行时间: 0.015622 秒\n",
      "  Python内置排序运行时间: 0.000000 秒\n",
      "------------------------------\n"
     ]
    }
   ],
   "source": [
    "import time\n",
    "import random\n",
    "\n",
    "\n",
    "# 生成指定长度的随机数列\n",
    "def generate_random_list(length):\n",
    "    return [random.randint(1, 10000) for _ in range(length)]\n",
    "\n",
    "\n",
    "# 选择排序\n",
    "def selection_sort(arr):\n",
    "    for i in range(len(arr)):\n",
    "        min_index = i\n",
    "        for j in range(i + 1, len(arr)):\n",
    "            if arr[j] < arr[min_index]:\n",
    "                min_index = j\n",
    "        arr[i], arr[min_index] = arr[min_index], arr[i]\n",
    "    return arr\n",
    "\n",
    "\n",
    "# 插入排序\n",
    "def insertion_sort(arr):\n",
    "    for i in range(1, len(arr)):\n",
    "        key = arr[i]\n",
    "        j = i - 1\n",
    "        while j >= 0 and arr[j] > key:\n",
    "            arr[j + 1] = arr[j]\n",
    "            j -= 1\n",
    "        arr[j + 1] = key\n",
    "    return arr\n",
    "\n",
    "\n",
    "# 归并排序\n",
    "def merge_sort(arr):\n",
    "    if len(arr) <= 1:\n",
    "        return arr\n",
    "    mid = len(arr) // 2\n",
    "    left = merge_sort(arr[:mid])\n",
    "    right = merge_sort(arr[mid:])\n",
    "    return merge(left, right)\n",
    "\n",
    "\n",
    "def merge(left, right):\n",
    "    merged = []\n",
    "    i = j = 0\n",
    "    while i < len(left) and j < len(right):\n",
    "        if left[i] < right[j]:\n",
    "            merged.append(left[i])\n",
    "            i += 1\n",
    "        else:\n",
    "            merged.append(right[j])\n",
    "            j += 1\n",
    "    merged.extend(left[i:])\n",
    "    merged.extend(right[j:])\n",
    "    return merged\n",
    "\n",
    "\n",
    "# 分析不同排序算法在不同长度数列下的运行效果\n",
    "lengths = [100, 1000, 10000]\n",
    "for length in lengths:\n",
    "    print(f\"数列长度为 {length}:\")\n",
    "    random_list = generate_random_list(length)\n",
    "\n",
    "    # 选择排序\n",
    "    start_time = time.time()\n",
    "    selection_result = selection_sort(random_list.copy())\n",
    "    end_time = time.time()\n",
    "    print(f\"  选择排序运行时间: {end_time - start_time:.6f} 秒\")\n",
    "\n",
    "    # 插入排序\n",
    "    start_time = time.time()\n",
    "    insertion_result = insertion_sort(random_list.copy())\n",
    "    end_time = time.time()\n",
    "    print(f\"  插入排序运行时间: {end_time - start_time:.6f} 秒\")\n",
    "\n",
    "    # 归并排序\n",
    "    start_time = time.time()\n",
    "    merge_result = merge_sort(random_list.copy())\n",
    "    end_time = time.time()\n",
    "    print(f\"  归并排序运行时间: {end_time - start_time:.6f} 秒\")\n",
    "\n",
    "    # Python内置排序（对比）\n",
    "    start_time = time.time()\n",
    "    sorted_result = sorted(random_list.copy())\n",
    "    end_time = time.time()\n",
    "    print(f\"  Python内置排序运行时间: {end_time - start_time:.6f} 秒\")\n",
    "\n",
    "    print(\"-\" * 30)"
   ]
  },
  {
   "cell_type": "code",
   "execution_count": 6,
   "metadata": {},
   "outputs": [
    {
     "name": "stdout",
     "output_type": "stream",
     "text": [
      "当前时间戳： 1735458999.776784\n",
      "当前系统时间： 2024-12-29 15:56:39\n"
     ]
    }
   ],
   "source": [
    "import time\n",
    "\n",
    "# 获取当前时间的时间戳（从1970年1月1日00:00:00 UTC到当前时间的秒数）\n",
    "current_time_stamp = time.time()\n",
    "print(\"当前时间戳：\", current_time_stamp)\n",
    "\n",
    "# 将时间戳转换为本地时间的结构体\n",
    "local_time_struct = time.localtime(current_time_stamp)\n",
    "\n",
    "# 按照指定格式输出时间，例如：年-月-日 时:分:秒\n",
    "formatted_time = time.strftime('%Y-%m-%d %H:%M:%S', local_time_struct)\n",
    "print(\"当前系统时间：\", formatted_time)"
   ]
  },
  {
   "cell_type": "code",
   "execution_count": 9,
   "metadata": {},
   "outputs": [
    {
     "name": "stdout",
     "output_type": "stream",
     "text": [
      "语文平均成绩: 82.6\n",
      "数学平均成绩: 81.0\n",
      "英语平均成绩: 81.8\n"
     ]
    }
   ],
   "source": [
    "import pandas as pd\n",
    "\n",
    "# 文件路径，根据实际情况调整，如果有问题可能导致读取失败\n",
    "file_path = \"D:\\\\python\\\\dase2024autumn\\\\homework03\\\\stuGrade.csv\"\n",
    "\n",
    "# 使用read_csv函数读取文件\n",
    "df = pd.read_csv(file_path)\n",
    "\n",
    "# 计算语文平均成绩\n",
    "chinese_avg = df[\"chinese\"].mean()\n",
    "# 计算数学平均成绩\n",
    "math_avg = df[\"math\"].mean()\n",
    "# 计算英语平均成绩\n",
    "english_avg = df[\"english\"].mean()\n",
    "\n",
    "# 保留两位小数\n",
    "chinese_avg = round(chinese_avg, 2)\n",
    "math_avg = round(math_avg, 2)\n",
    "english_avg = round(english_avg, 2)\n",
    "\n",
    "print(f\"语文平均成绩: {chinese_avg}\")\n",
    "print(f\"数学平均成绩: {math_avg}\")\n",
    "print(f\"英语平均成绩: {english_avg}\")"
   ]
  },
  {
   "cell_type": "code",
   "execution_count": 10,
   "metadata": {},
   "outputs": [],
   "source": [
    "import pandas as pd\n",
    "import time\n",
    "from datetime import datetime, timedelta\n",
    "import os\n",
    "\n",
    "# 文件路径，根据实际情况调整，如果有问题可能导致读取失败\n",
    "file_path = r\"D:\\python\\dase2024autumn\\homework03\\stuGrade.csv\"\n",
    "\n",
    "# 使用read_csv函数读取文件\n",
    "df = pd.read_csv(file_path)\n",
    "\n",
    "# 计算语文平均成绩\n",
    "chinese_avg = df[\"chinese\"].mean()\n",
    "# 计算数学平均成绩\n",
    "math_avg = df[\"math\"].mean()\n",
    "# 计算英语平均成绩\n",
    "english_avg = df[\"english\"].mean()\n",
    "\n",
    "# 保留两位小数\n",
    "chinese_avg = round(chinese_avg, 2)\n",
    "math_avg = round(math_avg, 2)\n",
    "english_avg = round(english_avg, 2)\n",
    "student_id = \"10235501443\"\n",
    "student_name = \"王玉\"\n",
    "\n",
    "# 获取当前系统时间\n",
    "current_time = datetime.now().strftime('%Y-%m-%d %H:%M:%S')\n",
    "\n",
    "# 获取两秒后的系统时间\n",
    "two_seconds_later = (datetime.now() + timedelta(seconds=2)).strftime('%Y-%m-%d %H:%M:%S')\n",
    "\n",
    "# 要写入文件的内容，每行内容作为一个元素存放在列表中\n",
    "content = [\n",
    "    f\"{student_id},{student_name}\",\n",
    "    f\"{chinese_avg},{math_avg},{english_avg}\",\n",
    "    current_time,\n",
    "    two_seconds_later\n",
    "]\n",
    "\n",
    "# 打开my.txt文件，如果不存在则创建，使用utf-8编码写入内容\n",
    "with open('my.txt', 'w', encoding='utf-8') as file:\n",
    "    for line in content:\n",
    "        file.write(line + '\\n')"
   ]
  }
 ],
 "metadata": {
  "kernelspec": {
   "display_name": "Python 3",
   "language": "python",
   "name": "python3"
  },
  "language_info": {
   "codemirror_mode": {
    "name": "ipython",
    "version": 3
   },
   "file_extension": ".py",
   "mimetype": "text/x-python",
   "name": "python",
   "nbconvert_exporter": "python",
   "pygments_lexer": "ipython3",
   "version": "3.12.6"
  }
 },
 "nbformat": 4,
 "nbformat_minor": 2
}
