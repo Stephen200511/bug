{
 "cells": [
  {
   "cell_type": "code",
   "execution_count": 2,
   "metadata": {},
   "outputs": [
    {
     "name": "stdout",
     "output_type": "stream",
     "text": [
      "这两个正整数的最大公约数是: 4\n"
     ]
    }
   ],
   "source": [
    "a = int(input(\"请输入第一个正整数: \"))\n",
    "b = int(input(\"请输入第二个正整数: \"))\n",
    "\n",
    "while b!= 0:\n",
    "    a, b = b, a % b\n",
    "\n",
    "print(f\"这两个正整数的最大公约数是: {a}\")"
   ]
  },
  {
   "cell_type": "code",
   "execution_count": 3,
   "metadata": {},
   "outputs": [
    {
     "name": "stdout",
     "output_type": "stream",
     "text": [
      "该成绩对应的等级为: 优秀\n"
     ]
    }
   ],
   "source": [
    "score = float(input(\"请输入考试成绩（0 - 100之间）: \"))\n",
    "if score < 60:\n",
    "    grade = \"不合格\"\n",
    "elif 60 <= score < 75:\n",
    "    grade = \"合格\"\n",
    "elif 75 <= score < 90:\n",
    "    grade = \"良好\"\n",
    "elif score >= 90:\n",
    "    grade = \"优秀\"\n",
    "print(f\"该成绩对应的等级为: {grade}\")"
   ]
  },
  {
   "cell_type": "code",
   "execution_count": 4,
   "metadata": {},
   "outputs": [
    {
     "name": "stdout",
     "output_type": "stream",
     "text": [
      "转换后的二进制小数为: 0.00011001100110011001100110011001\n"
     ]
    }
   ],
   "source": [
    "decimal_num = float(input(\"请输入一个十进制小数: \"))\n",
    "integer_part = int(decimal_num)\n",
    "fractional_part = decimal_num - integer_part\n",
    "binary_integer = bin(integer_part).replace('0b', '')\n",
    "binary_fraction = \"\"\n",
    "while fractional_part > 0 and len(binary_fraction) < 32:  # 限制二进制小数的精度，这里取32位，可按需调整\n",
    "    fractional_part *= 2\n",
    "    digit = int(fractional_part)\n",
    "    binary_fraction += str(digit)\n",
    "    fractional_part -= digit\n",
    "result = binary_integer + \".\" + binary_fraction\n",
    "print(f\"转换后的二进制小数为: {result}\")"
   ]
  },
  {
   "cell_type": "code",
   "execution_count": 5,
   "metadata": {},
   "outputs": [
    {
     "name": "stdout",
     "output_type": "stream",
     "text": [
      "19.96490971677364\n"
     ]
    }
   ],
   "source": [
    "import random\n",
    "\n",
    "random_number = random.uniform(10, 20)\n",
    "print(random_number)"
   ]
  },
  {
   "cell_type": "code",
   "execution_count": 8,
   "metadata": {},
   "outputs": [
    {
     "name": "stdout",
     "output_type": "stream",
     "text": [
      "False\n"
     ]
    }
   ],
   "source": [
    "def is_palindrome(num):\n",
    "    num_str = str(num)\n",
    "    return num_str == num_str[::-1]\n",
    "num= float(input(\"请输入数字: \"))\n",
    "result = is_palindrome(num)\n",
    "print(result)"
   ]
  },
  {
   "cell_type": "code",
   "execution_count": 9,
   "metadata": {},
   "outputs": [
    {
     "name": "stdout",
     "output_type": "stream",
     "text": [
      "[0, 1, 1, 2, 3, 5]\n"
     ]
    }
   ],
   "source": [
    "def fibonacci_sequence(n):\n",
    "    if n == 0:\n",
    "        return []\n",
    "    elif n == 1:\n",
    "        return [0]\n",
    "    elif n == 2:\n",
    "        return [0, 1]\n",
    "    result = [0, 1]\n",
    "    for _ in range(2, n):\n",
    "        next_number = result[-1] + result[-2]\n",
    "        result.append(next_number)\n",
    "    return result\n",
    "n = int(input(\"请输入要生成斐波那契数列的项数N: \"))\n",
    "print(fibonacci_sequence(n))"
   ]
  },
  {
   "cell_type": "code",
   "execution_count": 11,
   "metadata": {},
   "outputs": [
    {
     "name": "stdout",
     "output_type": "stream",
     "text": [
      "43\n"
     ]
    }
   ],
   "source": [
    "def second_largest(arr):\n",
    "    if not arr:  # 判断数组是否为空\n",
    "        return -1\n",
    "    if len(arr) == 1:  # 判断数组是否只有一个元素\n",
    "        return -1\n",
    "    largest = float('-inf')\n",
    "    second_largest_num = float('-inf')\n",
    "    for num in arr:\n",
    "        if num > largest:\n",
    "            second_largest_num = largest\n",
    "            largest = num\n",
    "        elif num > second_largest_num and num!= largest:\n",
    "            second_largest_num = num\n",
    "    return second_largest_num if second_largest_num!= float('-inf') else -1\n",
    "\n",
    "\n",
    "# 获取用户输入的整数数组\n",
    "input_str = input(\"请输入整数数组，元素之间用空格隔开：\")\n",
    "arr = list(map(int, input_str.split()))\n",
    "\n",
    "# 调用函数获取第二大的数并输出结果\n",
    "result = second_largest(arr)\n",
    "print(result)"
   ]
  },
  {
   "cell_type": "code",
   "execution_count": 12,
   "metadata": {},
   "outputs": [
    {
     "name": "stdout",
     "output_type": "stream",
     "text": [
      "身份证号格式合法\n"
     ]
    }
   ],
   "source": [
    "import re\n",
    "\n",
    "\n",
    "def validate_id_card(id_card):\n",
    "    pattern = r'^[1-9]\\d{5}(19|20)\\d{2}(0[1-9]|1[0-2])(0[1-9]|[1-2]\\d|3[0-1])\\d{3}[\\dX]$'\n",
    "    if re.match(pattern, id_card):\n",
    "        return True\n",
    "    return False\n",
    "id_card_number = input(\"请输入身份证号: \")\n",
    "result = validate_id_card(id_card_number)\n",
    "if result:\n",
    "    print(\"身份证号格式合法\")\n",
    "else:\n",
    "    print(\"身份证号格式不合法\")"
   ]
  }
 ],
 "metadata": {
  "kernelspec": {
   "display_name": "Python 3",
   "language": "python",
   "name": "python3"
  },
  "language_info": {
   "codemirror_mode": {
    "name": "ipython",
    "version": 3
   },
   "file_extension": ".py",
   "mimetype": "text/x-python",
   "name": "python",
   "nbconvert_exporter": "python",
   "pygments_lexer": "ipython3",
   "version": "3.12.6"
  }
 },
 "nbformat": 4,
 "nbformat_minor": 2
}
