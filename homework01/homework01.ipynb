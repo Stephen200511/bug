{
 "cells": [
  {
   "cell_type": "code",
   "execution_count": 6,
   "metadata": {},
   "outputs": [
    {
     "name": "stdout",
     "output_type": "stream",
     "text": [
      "★★★★★★★★★★★\n",
      "★数据科学与工程导论★\n",
      "★★★★★★★★★★★\n"
     ]
    }
   ],
   "source": [
    "print(chr(0x2605) +chr(0x2605) +chr(0x2605) +chr(0x2605) +chr(0x2605) +chr(0x2605) +chr(0x2605) +chr(0x2605) +chr(0x2605)+chr(0x2605) +chr(0x2605)  )\n",
    "print(chr(0x2605) + \"数据科学与工程导论\" + chr(0x2605))\n",
    "print(chr(0x2605) +chr(0x2605) +chr(0x2605) +chr(0x2605) +chr(0x2605) +chr(0x2605) +chr(0x2605) +chr(0x2605) +chr(0x2605)+chr(0x2605) +chr(0x2605)  )"
   ]
  },
  {
   "cell_type": "code",
   "execution_count": 5,
   "metadata": {},
   "outputs": [
    {
     "name": "stdout",
     "output_type": "stream",
     "text": [
      "42.0\n",
      "44.0\n",
      "45.0\n"
     ]
    }
   ],
   "source": [
    "x = float(input(\"请输入第一个数x: \"))\n",
    "y = float(input(\"请输入第二个数y: \"))\n",
    "z = float(input(\"请输入第三个数z: \"))\n",
    "num_list = [x, y, z]\n",
    "num_list.sort()\n",
    "for num in num_list:\n",
    "    print(num)"
   ]
  },
  {
   "cell_type": "code",
   "execution_count": 6,
   "metadata": {},
   "outputs": [
    {
     "name": "stdout",
     "output_type": "stream",
     "text": [
      "15.0\n",
      "13.0\n",
      "12.0\n",
      "9.0\n"
     ]
    }
   ],
   "source": [
    "w = float(input(\"请输入第一个数w: \"))\n",
    "x = float(input(\"请输入第二个数x: \"))\n",
    "y = float(input(\"请输入第三个数y: \"))\n",
    "z = float(input(\"请输入第四个数z: \"))\n",
    "num_list = [w, x, y, z]\n",
    "sorted_list = sorted(num_list, reverse=True)\n",
    "for num in sorted_list:\n",
    "    print(num)"
   ]
  },
  {
   "cell_type": "code",
   "execution_count": null,
   "metadata": {},
   "outputs": [],
   "source": [
    "for num in range(1, 101):\n",
    "    if num % 2!= 0:\n",
    "        print(num)"
   ]
  },
  {
   "cell_type": "markdown",
   "metadata": {},
   "source": [
    "1\n",
    "3\n",
    "5\n",
    "7\n",
    "9\n",
    "11\n",
    "13\n",
    "15\n",
    "17\n",
    "19\n",
    "21\n",
    "23\n",
    "25\n",
    "27\n",
    "29\n",
    "31\n",
    "33\n",
    "35\n",
    "37\n",
    "39\n",
    "41\n",
    "43\n",
    "45\n",
    "47\n",
    "49\n",
    "51\n",
    "53\n",
    "55\n",
    "57\n",
    "59\n",
    "61\n",
    "63\n",
    "65\n",
    "67\n",
    "69\n",
    "71\n",
    "73\n",
    "75\n",
    "77\n",
    "79\n",
    "81\n",
    "83\n",
    "85\n",
    "87\n",
    "89\n",
    "91\n",
    "93\n",
    "95\n",
    "97\n",
    "99"
   ]
  },
  {
   "cell_type": "code",
   "execution_count": 8,
   "metadata": {},
   "outputs": [
    {
     "name": "stdout",
     "output_type": "stream",
     "text": [
      "5050\n"
     ]
    }
   ],
   "source": [
    "sum_num = 0\n",
    "for num in range(1, 101):\n",
    "    sum_num += num\n",
    "print(sum_num)"
   ]
  },
  {
   "cell_type": "code",
   "execution_count": 11,
   "metadata": {},
   "outputs": [
    {
     "name": "stdout",
     "output_type": "stream",
     "text": [
      "[6, 5, 4, 3, 2]\n"
     ]
    }
   ],
   "source": [
    "L = list(map(int, input(\"请输入一组整数，以空格为分隔符：\").split()))\n",
    "result = []\n",
    "index = len(L) - 1\n",
    "while index >= 0:\n",
    "    result.append(L[index])\n",
    "    index -= 1\n",
    "print(result)"
   ]
  },
  {
   "cell_type": "code",
   "execution_count": 10,
   "metadata": {},
   "outputs": [
    {
     "name": "stdout",
     "output_type": "stream",
     "text": [
      "包含\n"
     ]
    }
   ],
   "source": [
    "S = input(\"请输入一个字符串: \")\n",
    "n = len(S)\n",
    "i = 0\n",
    "while i < n - 1:\n",
    "    count = 1\n",
    "    while i < n - 1 and S[i] == S[i + 1]:\n",
    "        count += 1\n",
    "        i += 1\n",
    "    if count >= 2:\n",
    "        print(\"包含\")\n",
    "        break\n",
    "    i += 1\n",
    "else:\n",
    "    print(\"不包含\")"
   ]
  },
  {
   "cell_type": "code",
   "execution_count": 12,
   "metadata": {},
   "outputs": [
    {
     "name": "stdout",
     "output_type": "stream",
     "text": [
      "EastChinaNormalUniversity\n"
     ]
    }
   ],
   "source": [
    "S = input(\"请输入一个字符串: \")\n",
    "new_S = S.replace(\" \", \"\")\n",
    "print(new_S)"
   ]
  },
  {
   "cell_type": "code",
   "execution_count": 14,
   "metadata": {},
   "outputs": [
    {
     "name": "stdout",
     "output_type": "stream",
     "text": [
      "56.0的3次方根约为: 3.825862365545055\n"
     ]
    }
   ],
   "source": [
    "def cube_root(a):\n",
    "    x_n = a / 2\n",
    "    tolerance = 1e-6\n",
    "    while True:\n",
    "        x_n_next = (2 * x_n ** 3 + a) / (3 * x_n ** 2)\n",
    "        if abs(x_n_next - x_n) < tolerance:\n",
    "            break\n",
    "        x_n = x_n_next\n",
    "    return x_n\n",
    "\n",
    "num = float(input(\"请输入一个数字：\"))\n",
    "result = cube_root(num)\n",
    "print(f\"{num}的3次方根约为: {result}\")"
   ]
  },
  {
   "cell_type": "code",
   "execution_count": 15,
   "metadata": {},
   "outputs": [
    {
     "name": "stdout",
     "output_type": "stream",
     "text": [
      "5! = 120\n"
     ]
    }
   ],
   "source": [
    "n = int(input(\"请输入一个大于0的常数n: \"))\n",
    "result = 1\n",
    "for num in range(1, n + 1):\n",
    "    result *= num\n",
    "print(f\"{n}! = {result}\")"
   ]
  }
 ],
 "metadata": {
  "kernelspec": {
   "display_name": "Python 3",
   "language": "python",
   "name": "python3"
  },
  "language_info": {
   "codemirror_mode": {
    "name": "ipython",
    "version": 3
   },
   "file_extension": ".py",
   "mimetype": "text/x-python",
   "name": "python",
   "nbconvert_exporter": "python",
   "pygments_lexer": "ipython3",
   "version": "3.12.6"
  }
 },
 "nbformat": 4,
 "nbformat_minor": 2
}
