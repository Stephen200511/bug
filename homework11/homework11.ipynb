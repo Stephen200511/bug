{
 "cells": [
  {
   "cell_type": "code",
   "execution_count": 4,
   "metadata": {},
   "outputs": [
    {
     "name": "stdout",
     "output_type": "stream",
     "text": [
      "contain_IP                 90\n",
      "is_long                    89\n",
      "is_tinyurl                 88\n",
      "contain_at                 82\n",
      "contain_double_slash      116\n",
      "contain_dash               94\n",
      "contain_subdomain          97\n",
      "is_SSL                     96\n",
      "with_long_history        2795\n",
      "contain_icon             1358\n",
      "contain_ext_domain       1527\n",
      "contain_email_to         2079\n",
      "allow_right_click        3407\n",
      "contain_pop_up_window     279\n",
      "contain_Iframe            659\n",
      "has_DNSRecord            1201\n",
      "traffic                  1507\n",
      "google_rank               664\n",
      "y                           0\n",
      "dtype: int64\n",
      "F1值: 0.8541893362350381\n",
      "F1值: 0.8393956351426972\n",
      "F1值: 0.8720173535791758\n",
      "F1值: 0.8554666666666667\n"
     ]
    }
   ],
   "source": [
    "import pandas as pd\n",
    "import numpy as np\n",
    "from sklearn.linear_model import LogisticRegression\n",
    "from sklearn.model_selection import train_test_split\n",
    "from sklearn.metrics import f1_score\n",
    "from sklearn.impute import SimpleImputer\n",
    "data = pd.read_csv('fraudulent.csv')\n",
    "print(data.isnull().sum())\n",
    "imputer = SimpleImputer(strategy='most_frequent')\n",
    "data_imputed = pd.DataFrame(imputer.fit_transform(data), columns=data.columns)\n",
    "X = data_imputed.drop('y', axis=1).values\n",
    "y = data_imputed['y'].values\n",
    "X_train, X_test, y_train, y_test = train_test_split(X, y, test_size=0.3, random_state=1)\n",
    "model = LogisticRegression()\n",
    "model.fit(X_train, y_train)\n",
    "y_pred = model.predict(X_test)\n",
    "f1 = f1_score(y_test, y_pred)\n",
    "print(\"F1值:\", f1)\n",
    "\n",
    "\n",
    "from sklearn.neighbors import KNeighborsClassifier\n",
    "\n",
    "model = KNeighborsClassifier(n_neighbors=5)\n",
    "model.fit(X_train, y_train)\n",
    "y_pred = model.predict(X_test)\n",
    "f1 = f1_score(y_test, y_pred)\n",
    "print(\"F1值:\", f1)\n",
    "\n",
    "from sklearn.tree import DecisionTreeClassifier\n",
    "\n",
    "\n",
    "model = DecisionTreeClassifier()\n",
    "model.fit(X_train, y_train)\n",
    "y_pred = model.predict(X_test)\n",
    "f1 = f1_score(y_test, y_pred)\n",
    "print(\"F1值:\", f1)\n",
    "\n",
    "from sklearn.svm import SVC\n",
    "\n",
    "model = SVC(kernel='linear')\n",
    "model.fit(X_train, y_train)\n",
    "y_pred = model.predict(X_test)\n",
    "f1 = f1_score(y_test, y_pred)\n",
    "print(\"F1值:\", f1)"
   ]
  }
 ],
 "metadata": {
  "kernelspec": {
   "display_name": "Python 3",
   "language": "python",
   "name": "python3"
  },
  "language_info": {
   "codemirror_mode": {
    "name": "ipython",
    "version": 3
   },
   "file_extension": ".py",
   "mimetype": "text/x-python",
   "name": "python",
   "nbconvert_exporter": "python",
   "pygments_lexer": "ipython3",
   "version": "3.12.6"
  }
 },
 "nbformat": 4,
 "nbformat_minor": 2
}
